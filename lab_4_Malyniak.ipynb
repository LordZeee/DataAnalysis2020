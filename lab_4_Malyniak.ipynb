{
 "cells": [
  {
   "cell_type": "markdown",
   "metadata": {},
   "source": [
    "# 1. Полносвязные сети (многослойный персептрон)\n",
    "Решите задачу классификации на данных, с которыми вы работали в лабораторной No 2,\n",
    "результат сравните с полученными ранее\n",
    "\n",
    "# 2. Сверточные сети\n",
    "Решите любую задачу по вашему выбору, обязательным условием является только\n",
    "использование сверточных слоев (например задачу классификации изображений(если в\n",
    "выбранном датасете много классов, достаточно оставить например 5), или генерации с\n",
    "помощью GAN)\n",
    "\n",
    "# 3. Рекуррентные сети\n",
    "Решите любую задачу по вашему выбору, обязательным условием является только\n",
    "использование рекуррентной сети (это может быть предсказание значений временного\n",
    "ряда или задача классификации текстов)\n",
    "\n",
    "Датасеты для задания No 2 (MNIST и CIFAR-10 не использовать) можно брать отсюда:\n",
    "https://www.kaggle.com/tags/image-data\n",
    "Для задания No 3\n",
    "временные ряды:\n",
    "https://www.kaggle.com/tags/time-series\n",
    "тексты можно брать те же, что и в лабораторной No 3"
   ]
  },
  {
   "cell_type": "markdown",
   "metadata": {},
   "source": [
    "# MLP PyTorch"
   ]
  },
  {
   "cell_type": "code",
   "execution_count": 310,
   "metadata": {},
   "outputs": [],
   "source": [
    "import os\n",
    "import numpy as np \n",
    "import pandas as pd\n"
   ]
  },
  {
   "cell_type": "code",
   "execution_count": 311,
   "metadata": {},
   "outputs": [],
   "source": [
    "PATH = r\"C:\\Users\\malin\\Desktop\\Универ\\Data Analysis\\Lc\\LAb2\\datasets\""
   ]
  },
  {
   "cell_type": "code",
   "execution_count": 504,
   "metadata": {},
   "outputs": [
    {
     "data": {
      "text/html": [
       "<div>\n",
       "<style scoped>\n",
       "    .dataframe tbody tr th:only-of-type {\n",
       "        vertical-align: middle;\n",
       "    }\n",
       "\n",
       "    .dataframe tbody tr th {\n",
       "        vertical-align: top;\n",
       "    }\n",
       "\n",
       "    .dataframe thead th {\n",
       "        text-align: right;\n",
       "    }\n",
       "</style>\n",
       "<table border=\"1\" class=\"dataframe\">\n",
       "  <thead>\n",
       "    <tr style=\"text-align: right;\">\n",
       "      <th></th>\n",
       "      <th>cap-shape</th>\n",
       "      <th>cap-surface</th>\n",
       "      <th>cap-color</th>\n",
       "      <th>bruises</th>\n",
       "      <th>odor</th>\n",
       "      <th>gill-attachment</th>\n",
       "      <th>gill-spacing</th>\n",
       "      <th>gill-size</th>\n",
       "      <th>gill-color</th>\n",
       "      <th>stalk-shape</th>\n",
       "      <th>...</th>\n",
       "      <th>stalk-surface-below-ring</th>\n",
       "      <th>stalk-color-above-ring</th>\n",
       "      <th>stalk-color-below-ring</th>\n",
       "      <th>veil-type</th>\n",
       "      <th>veil-color</th>\n",
       "      <th>ring-number</th>\n",
       "      <th>ring-type</th>\n",
       "      <th>spore-print-color</th>\n",
       "      <th>population</th>\n",
       "      <th>habitat</th>\n",
       "    </tr>\n",
       "  </thead>\n",
       "  <tbody>\n",
       "    <tr>\n",
       "      <th>0</th>\n",
       "      <td>x</td>\n",
       "      <td>s</td>\n",
       "      <td>n</td>\n",
       "      <td>t</td>\n",
       "      <td>p</td>\n",
       "      <td>f</td>\n",
       "      <td>c</td>\n",
       "      <td>n</td>\n",
       "      <td>k</td>\n",
       "      <td>e</td>\n",
       "      <td>...</td>\n",
       "      <td>s</td>\n",
       "      <td>w</td>\n",
       "      <td>w</td>\n",
       "      <td>p</td>\n",
       "      <td>w</td>\n",
       "      <td>o</td>\n",
       "      <td>p</td>\n",
       "      <td>k</td>\n",
       "      <td>s</td>\n",
       "      <td>u</td>\n",
       "    </tr>\n",
       "    <tr>\n",
       "      <th>1</th>\n",
       "      <td>x</td>\n",
       "      <td>s</td>\n",
       "      <td>y</td>\n",
       "      <td>t</td>\n",
       "      <td>a</td>\n",
       "      <td>f</td>\n",
       "      <td>c</td>\n",
       "      <td>b</td>\n",
       "      <td>k</td>\n",
       "      <td>e</td>\n",
       "      <td>...</td>\n",
       "      <td>s</td>\n",
       "      <td>w</td>\n",
       "      <td>w</td>\n",
       "      <td>p</td>\n",
       "      <td>w</td>\n",
       "      <td>o</td>\n",
       "      <td>p</td>\n",
       "      <td>n</td>\n",
       "      <td>n</td>\n",
       "      <td>g</td>\n",
       "    </tr>\n",
       "    <tr>\n",
       "      <th>2</th>\n",
       "      <td>b</td>\n",
       "      <td>s</td>\n",
       "      <td>w</td>\n",
       "      <td>t</td>\n",
       "      <td>l</td>\n",
       "      <td>f</td>\n",
       "      <td>c</td>\n",
       "      <td>b</td>\n",
       "      <td>n</td>\n",
       "      <td>e</td>\n",
       "      <td>...</td>\n",
       "      <td>s</td>\n",
       "      <td>w</td>\n",
       "      <td>w</td>\n",
       "      <td>p</td>\n",
       "      <td>w</td>\n",
       "      <td>o</td>\n",
       "      <td>p</td>\n",
       "      <td>n</td>\n",
       "      <td>n</td>\n",
       "      <td>m</td>\n",
       "    </tr>\n",
       "    <tr>\n",
       "      <th>3</th>\n",
       "      <td>x</td>\n",
       "      <td>y</td>\n",
       "      <td>w</td>\n",
       "      <td>t</td>\n",
       "      <td>p</td>\n",
       "      <td>f</td>\n",
       "      <td>c</td>\n",
       "      <td>n</td>\n",
       "      <td>n</td>\n",
       "      <td>e</td>\n",
       "      <td>...</td>\n",
       "      <td>s</td>\n",
       "      <td>w</td>\n",
       "      <td>w</td>\n",
       "      <td>p</td>\n",
       "      <td>w</td>\n",
       "      <td>o</td>\n",
       "      <td>p</td>\n",
       "      <td>k</td>\n",
       "      <td>s</td>\n",
       "      <td>u</td>\n",
       "    </tr>\n",
       "    <tr>\n",
       "      <th>4</th>\n",
       "      <td>x</td>\n",
       "      <td>s</td>\n",
       "      <td>g</td>\n",
       "      <td>f</td>\n",
       "      <td>n</td>\n",
       "      <td>f</td>\n",
       "      <td>w</td>\n",
       "      <td>b</td>\n",
       "      <td>k</td>\n",
       "      <td>t</td>\n",
       "      <td>...</td>\n",
       "      <td>s</td>\n",
       "      <td>w</td>\n",
       "      <td>w</td>\n",
       "      <td>p</td>\n",
       "      <td>w</td>\n",
       "      <td>o</td>\n",
       "      <td>e</td>\n",
       "      <td>n</td>\n",
       "      <td>a</td>\n",
       "      <td>g</td>\n",
       "    </tr>\n",
       "  </tbody>\n",
       "</table>\n",
       "<p>5 rows × 22 columns</p>\n",
       "</div>"
      ],
      "text/plain": [
       "  cap-shape cap-surface cap-color bruises odor gill-attachment gill-spacing  \\\n",
       "0         x           s         n       t    p               f            c   \n",
       "1         x           s         y       t    a               f            c   \n",
       "2         b           s         w       t    l               f            c   \n",
       "3         x           y         w       t    p               f            c   \n",
       "4         x           s         g       f    n               f            w   \n",
       "\n",
       "  gill-size gill-color stalk-shape  ... stalk-surface-below-ring  \\\n",
       "0         n          k           e  ...                        s   \n",
       "1         b          k           e  ...                        s   \n",
       "2         b          n           e  ...                        s   \n",
       "3         n          n           e  ...                        s   \n",
       "4         b          k           t  ...                        s   \n",
       "\n",
       "  stalk-color-above-ring stalk-color-below-ring veil-type veil-color  \\\n",
       "0                      w                      w         p          w   \n",
       "1                      w                      w         p          w   \n",
       "2                      w                      w         p          w   \n",
       "3                      w                      w         p          w   \n",
       "4                      w                      w         p          w   \n",
       "\n",
       "  ring-number ring-type spore-print-color population habitat  \n",
       "0           o         p                 k          s       u  \n",
       "1           o         p                 n          n       g  \n",
       "2           o         p                 n          n       m  \n",
       "3           o         p                 k          s       u  \n",
       "4           o         e                 n          a       g  \n",
       "\n",
       "[5 rows x 22 columns]"
      ]
     },
     "execution_count": 504,
     "metadata": {},
     "output_type": "execute_result"
    }
   ],
   "source": [
    "data = pd.read_csv(PATH + \"\\mushrooms.csv\")\n",
    "for cat in data.columns:\n",
    "    data[cat] = data[cat].astype(\"category\")\n",
    "target = data['class']\n",
    "data.drop('class',axis = 1,inplace = True)\n",
    "data.head(5)"
   ]
  },
  {
   "cell_type": "code",
   "execution_count": 563,
   "metadata": {},
   "outputs": [
    {
     "name": "stdout",
     "output_type": "stream",
     "text": [
      "<class 'pandas.core.frame.DataFrame'>\n",
      "RangeIndex: 8124 entries, 0 to 8123\n",
      "Data columns (total 22 columns):\n",
      " #   Column                    Non-Null Count  Dtype   \n",
      "---  ------                    --------------  -----   \n",
      " 0   cap-shape                 8124 non-null   category\n",
      " 1   cap-surface               8124 non-null   category\n",
      " 2   cap-color                 8124 non-null   category\n",
      " 3   bruises                   8124 non-null   category\n",
      " 4   odor                      8124 non-null   category\n",
      " 5   gill-attachment           8124 non-null   category\n",
      " 6   gill-spacing              8124 non-null   category\n",
      " 7   gill-size                 8124 non-null   category\n",
      " 8   gill-color                8124 non-null   category\n",
      " 9   stalk-shape               8124 non-null   category\n",
      " 10  stalk-root                8124 non-null   category\n",
      " 11  stalk-surface-above-ring  8124 non-null   category\n",
      " 12  stalk-surface-below-ring  8124 non-null   category\n",
      " 13  stalk-color-above-ring    8124 non-null   category\n",
      " 14  stalk-color-below-ring    8124 non-null   category\n",
      " 15  veil-type                 8124 non-null   category\n",
      " 16  veil-color                8124 non-null   category\n",
      " 17  ring-number               8124 non-null   category\n",
      " 18  ring-type                 8124 non-null   category\n",
      " 19  spore-print-color         8124 non-null   category\n",
      " 20  population                8124 non-null   category\n",
      " 21  habitat                   8124 non-null   category\n",
      "dtypes: category(22)\n",
      "memory usage: 179.6 KB\n"
     ]
    }
   ],
   "source": [
    "data.info()"
   ]
  },
  {
   "cell_type": "code",
   "execution_count": 562,
   "metadata": {},
   "outputs": [
    {
     "name": "stdout",
     "output_type": "stream",
     "text": [
      "[array([False]), array([False]), array([False]), array([False]), array([False]), array([False]), array([False]), array([False]), array([False]), array([False]), array([False]), array([False]), array([False]), array([False]), array([False]), array([False]), array([False]), array([False]), array([False]), array([False]), array([False]), array([False])]\n"
     ]
    }
   ],
   "source": [
    "isNA = [data[i].isna().unique() for i in data.columns]\n",
    "print(isNA)"
   ]
  },
  {
   "cell_type": "code",
   "execution_count": 475,
   "metadata": {},
   "outputs": [],
   "source": [
    "cat_data = [np.array(data[i].cat.codes) for i in data.columns]\n",
    "cat_data_s  = np.stack([*np.array(cat_data)],1)\n",
    "cat_data_pd = pd.DataFrame(cat_data_s)"
   ]
  },
  {
   "cell_type": "code",
   "execution_count": 525,
   "metadata": {},
   "outputs": [],
   "source": [
    "target = target.astype(\"category\").cat.codes.values\n",
    "categorical_column_sizes = [len(cat_data_pd[column].astype(\"category\").cat.categories) for column in cat_data_pd.columns]\n",
    "categorical_embedding_sizes = [(col_size, min(50, (col_size+1)//2)) for col_size in categorical_column_sizes]"
   ]
  },
  {
   "cell_type": "code",
   "execution_count": 212,
   "metadata": {},
   "outputs": [],
   "source": [
    "from sklearn.model_selection import train_test_split\n",
    "import torch"
   ]
  },
  {
   "cell_type": "code",
   "execution_count": 507,
   "metadata": {},
   "outputs": [],
   "source": [
    "X_train,X_test,Y_train,Y_test = train_test_split(cat_data_pd,target,test_size = 0.3)"
   ]
  },
  {
   "cell_type": "code",
   "execution_count": 508,
   "metadata": {},
   "outputs": [],
   "source": [
    "categorical_train_data = torch.tensor(np.array(X_train),dtype = torch.int64)\n",
    "categorical_test_data = torch.tensor(np.array(X_test),dtype = torch.int64)\n",
    "\n",
    "categorical_train_target = torch.tensor(np.array(Y_train).flatten(),dtype = torch.int64)\n",
    "categorical_test_target = torch.tensor(np.array(Y_test).flatten(),dtype = torch.int64)"
   ]
  },
  {
   "cell_type": "code",
   "execution_count": 518,
   "metadata": {},
   "outputs": [],
   "source": [
    "import torch.nn as nn\n",
    "import torch.nn.functional as f\n",
    "\n",
    "class Model(nn.Module):#MultiLayer Perceptron\n",
    "    def __init__(self, embedding_size, output_size, layers, p=0.4):\n",
    "        super().__init__()\n",
    "        self.all_embeddings = nn.ModuleList([nn.Embedding(ni, nf) for ni, nf in embedding_size])\n",
    "        self.embedding_dropout = nn.Dropout(p)\n",
    "\n",
    "        all_layers = []\n",
    "        num_categorical_cols = sum((nf for ni, nf in embedding_size))\n",
    "        input_size =  num_categorical_cols \n",
    "\n",
    "        for i in layers:\n",
    "            all_layers.append(nn.Linear(input_size, i))\n",
    "            all_layers.append(nn.ReLU(inplace=True))\n",
    "            all_layers.append(nn.Dropout(p))\n",
    "            input_size = i\n",
    "\n",
    "        all_layers.append(nn.Linear(layers[-1], output_size))\n",
    "\n",
    "        self.layers = nn.Sequential(*all_layers)\n",
    "        \n",
    "    def forward(self, x_categorical):\n",
    "        embeddings = []\n",
    "        \n",
    "        for i, e in enumerate(self.all_embeddings):\n",
    "            #%debug\n",
    "            embeddings.append(e(x_categorical[:,i]))\n",
    "        x = torch.cat(embeddings, 1)\n",
    "        x = self.embedding_dropout(x)\n",
    "        x = self.layers(x)\n",
    "        return x"
   ]
  },
  {
   "cell_type": "code",
   "execution_count": 553,
   "metadata": {},
   "outputs": [
    {
     "name": "stdout",
     "output_type": "stream",
     "text": [
      "Model(\n",
      "  (all_embeddings): ModuleList(\n",
      "    (0): Embedding(6, 3)\n",
      "    (1): Embedding(4, 2)\n",
      "    (2): Embedding(10, 5)\n",
      "    (3): Embedding(2, 1)\n",
      "    (4): Embedding(9, 5)\n",
      "    (5): Embedding(2, 1)\n",
      "    (6): Embedding(2, 1)\n",
      "    (7): Embedding(2, 1)\n",
      "    (8): Embedding(12, 6)\n",
      "    (9): Embedding(2, 1)\n",
      "    (10): Embedding(5, 3)\n",
      "    (11): Embedding(4, 2)\n",
      "    (12): Embedding(4, 2)\n",
      "    (13): Embedding(9, 5)\n",
      "    (14): Embedding(9, 5)\n",
      "    (15): Embedding(1, 1)\n",
      "    (16): Embedding(4, 2)\n",
      "    (17): Embedding(3, 2)\n",
      "    (18): Embedding(5, 3)\n",
      "    (19): Embedding(9, 5)\n",
      "    (20): Embedding(6, 3)\n",
      "    (21): Embedding(7, 4)\n",
      "  )\n",
      "  (embedding_dropout): Dropout(p=0.4, inplace=False)\n",
      "  (layers): Sequential(\n",
      "    (0): Linear(in_features=63, out_features=200, bias=True)\n",
      "    (1): ReLU(inplace=True)\n",
      "    (2): Dropout(p=0.4, inplace=False)\n",
      "    (3): Linear(in_features=200, out_features=100, bias=True)\n",
      "    (4): ReLU(inplace=True)\n",
      "    (5): Dropout(p=0.4, inplace=False)\n",
      "    (6): Linear(in_features=100, out_features=50, bias=True)\n",
      "    (7): ReLU(inplace=True)\n",
      "    (8): Dropout(p=0.4, inplace=False)\n",
      "    (9): Linear(in_features=50, out_features=2, bias=True)\n",
      "  )\n",
      ")\n"
     ]
    }
   ],
   "source": [
    "model = Model(categorical_embedding_sizes,2,[200,100,50],p = 0.4)\n",
    "print(model)"
   ]
  },
  {
   "cell_type": "code",
   "execution_count": 554,
   "metadata": {},
   "outputs": [
    {
     "name": "stdout",
     "output_type": "stream",
     "text": [
      "Значение функции потерь :  0.69948924 | Epoch : 1\n",
      "Значение функции потерь :  0.21378130 | Epoch : 26\n",
      "Значение функции потерь :  0.11715830 | Epoch : 51\n",
      "Значение функции потерь :  0.07307478 | Epoch : 76\n",
      "Значение функции потерь :  0.04944579 | Epoch : 101\n",
      "Значение функции потерь :  0.04201740 | Epoch : 126\n",
      "Значение функции потерь :  0.03661250 | Epoch : 151\n",
      "Значение функции потерь :  0.02619268 | Epoch : 176\n",
      "Значение функции потерь :  0.02843243 | Epoch : 201\n",
      "Значение функции потерь :  0.01997202 | Epoch : 226\n",
      "Значение функции потерь :  0.02213849 | Epoch : 251\n",
      "Значение функции потерь :  0.02313596 | Epoch : 276\n",
      "Финал : 0.01585538126528263 \n"
     ]
    }
   ],
   "source": [
    "loss_function = nn.CrossEntropyLoss()\n",
    "optimizer = torch.optim.Adam(model.parameters(), lr = 0.001)\n",
    "\n",
    "epoch = 300\n",
    "aggregated_loss = []\n",
    "\n",
    "for i in range(epoch):\n",
    "    i += 1\n",
    "    y_pred = model(categorical_train_data)\n",
    "    single_loss = loss_function(y_pred,categorical_train_target)\n",
    "    aggregated_loss.append(single_loss)\n",
    "    \n",
    "    if i%25 == 1:\n",
    "        print(f\"Значение функции потерь :  {single_loss.item():10.8f} | Epoch : {i}\")\n",
    "    optimizer.zero_grad()\n",
    "    single_loss.backward()\n",
    "    optimizer.step()\n",
    "print(f\"Финал : {single_loss} \")"
   ]
  },
  {
   "cell_type": "code",
   "execution_count": 555,
   "metadata": {},
   "outputs": [
    {
     "data": {
      "text/plain": [
       "[<matplotlib.lines.Line2D at 0x24ca2936748>]"
      ]
     },
     "execution_count": 555,
     "metadata": {},
     "output_type": "execute_result"
    },
    {
     "data": {
      "image/png": "[encoded data removed]",
      "text/plain": [
       "<Figure size 432x288 with 1 Axes>"
      ]
     },
     "metadata": {
      "needs_background": "light"
     },
     "output_type": "display_data"
    }
   ],
   "source": [
    "plt.plot(range(epoch),aggregated_loss)# test loss"
   ]
  },
  {
   "cell_type": "code",
   "execution_count": 522,
   "metadata": {},
   "outputs": [
    {
     "name": "stdout",
     "output_type": "stream",
     "text": [
      "Ошибка на тестовом наборе: 0.01091461\n"
     ]
    }
   ],
   "source": [
    "with torch.no_grad():\n",
    "    y_val = model(categorical_test_data)\n",
    "    loss = loss_function(y_val, categorical_test_target)\n",
    "print(f'Ошибка на тестовом наборе: {loss:.8f}')"
   ]
  },
  {
   "cell_type": "raw",
   "metadata": {},
   "source": [
    "Результат незначительно лучше по сравнению"
   ]
  },
  {
   "cell_type": "markdown",
   "metadata": {},
   "source": [
    "# CNN Classification tensorflow"
   ]
  },
  {
   "cell_type": "code",
   "execution_count": 527,
   "metadata": {},
   "outputs": [
    {
     "name": "stderr",
     "output_type": "stream",
     "text": [
      "Using TensorFlow backend.\n"
     ]
    }
   ],
   "source": [
    "import numpy as np\n",
    "import keras\n",
    "import cv2\n",
    "import os\n",
    "import sys\n",
    "import matplotlib.pyplot as plt"
   ]
  },
  {
   "cell_type": "code",
   "execution_count": 531,
   "metadata": {},
   "outputs": [],
   "source": [
    "from keras.preprocessing.image import ImageDataGenerator"
   ]
  },
  {
   "cell_type": "code",
   "execution_count": 538,
   "metadata": {},
   "outputs": [],
   "source": [
    "train_dir = \"./dogs_cats_small/train\"\n",
    "test_dir = \"./dogs_cats_small/test\""
   ]
  },
  {
   "cell_type": "code",
   "execution_count": 529,
   "metadata": {},
   "outputs": [],
   "source": [
    "ImSize = 64\n",
    "input_shape = (ImSize, ImSize, 3)\n",
    "batch_size = 32"
   ]
  },
  {
   "cell_type": "code",
   "execution_count": 539,
   "metadata": {},
   "outputs": [],
   "source": [
    "train_datagen = ImageDataGenerator(rescale=1.0/255, #shear_range=0.1, \n",
    "                                    #rotation_range=10,\n",
    "                                    width_shift_range = 0.1,\n",
    "                                    height_shift_range = 0.1, \n",
    "                                    fill_mode = \"constant\")\n",
    "test_datagen = ImageDataGenerator(rescale=1.0/255)"
   ]
  },
  {
   "cell_type": "code",
   "execution_count": 540,
   "metadata": {},
   "outputs": [
    {
     "name": "stdout",
     "output_type": "stream",
     "text": [
      "Found 1600 images belonging to 2 classes.\n",
      "Found 410 images belonging to 2 classes.\n"
     ]
    }
   ],
   "source": [
    "train_generator = train_datagen.flow_from_directory(train_dir, \n",
    "                target_size=(ImSize, ImSize), \n",
    "                batch_size = batch_size)\n",
    "test_generator = test_datagen.flow_from_directory(test_dir, \n",
    "                    target_size=(ImSize, ImSize), batch_size=1,\n",
    "                    shuffle = False)"
   ]
  },
  {
   "cell_type": "code",
   "execution_count": 541,
   "metadata": {},
   "outputs": [],
   "source": [
    "from keras.layers import Conv2D, MaxPool2D, Flatten, \\\n",
    "Dense, Dropout, BatchNormalization"
   ]
  },
  {
   "cell_type": "code",
   "execution_count": 542,
   "metadata": {},
   "outputs": [],
   "source": [
    "model = keras.models.Sequential()\n",
    "model.add(Conv2D(64, (3,3), padding=\"same\", activation='relu',\n",
    "                 input_shape = input_shape))\n",
    "model.add(MaxPool2D())\n",
    "model.add(Conv2D(128, (3,3), padding=\"same\", activation='relu'))\n",
    "model.add(MaxPool2D())\n",
    "model.add(Conv2D(256, (3,3), padding=\"same\", activation='relu'))\n",
    "model.add(MaxPool2D())\n",
    "model.add(Conv2D(512, (3,3), padding=\"same\", activation='relu'))\n",
    "model.add(MaxPool2D((8,8)))\n",
    "model.add(Flatten())\n",
    "model.add(Dense(2, activation='softmax'))"
   ]
  },
  {
   "cell_type": "code",
   "execution_count": 543,
   "metadata": {},
   "outputs": [],
   "source": [
    "model.compile(keras.optimizers.Adam(lr=0.001), \n",
    "              loss = keras.losses.categorical_crossentropy, \n",
    "             metrics = ['accuracy'])"
   ]
  },
  {
   "cell_type": "code",
   "execution_count": 544,
   "metadata": {},
   "outputs": [
    {
     "name": "stdout",
     "output_type": "stream",
     "text": [
      "Epoch 1/30\n",
      "50/50 [==============================] - 29s 577ms/step - loss: 0.7020 - accuracy: 0.4938\n",
      "Epoch 2/30\n",
      "50/50 [==============================] - 21s 423ms/step - loss: 0.6920 - accuracy: 0.5250\n",
      "Epoch 3/30\n",
      "50/50 [==============================] - 21s 429ms/step - loss: 0.6814 - accuracy: 0.5669\n",
      "Epoch 4/30\n",
      "50/50 [==============================] - 22s 439ms/step - loss: 0.6687 - accuracy: 0.5944\n",
      "Epoch 5/30\n",
      "50/50 [==============================] - 24s 478ms/step - loss: 0.6610 - accuracy: 0.5956\n",
      "Epoch 6/30\n",
      "50/50 [==============================] - 23s 455ms/step - loss: 0.6271 - accuracy: 0.6550\n",
      "Epoch 7/30\n",
      "50/50 [==============================] - 22s 440ms/step - loss: 0.6218 - accuracy: 0.6569\n",
      "Epoch 8/30\n",
      "50/50 [==============================] - 22s 448ms/step - loss: 0.5886 - accuracy: 0.6844\n",
      "Epoch 9/30\n",
      "50/50 [==============================] - 22s 441ms/step - loss: 0.5818 - accuracy: 0.6844\n",
      "Epoch 10/30\n",
      "50/50 [==============================] - 23s 458ms/step - loss: 0.5774 - accuracy: 0.6800\n",
      "Epoch 11/30\n",
      "50/50 [==============================] - 23s 455ms/step - loss: 0.5466 - accuracy: 0.7269\n",
      "Epoch 12/30\n",
      "50/50 [==============================] - 22s 441ms/step - loss: 0.5160 - accuracy: 0.7456\n",
      "Epoch 13/30\n",
      "50/50 [==============================] - 24s 474ms/step - loss: 0.5141 - accuracy: 0.7431\n",
      "Epoch 14/30\n",
      "50/50 [==============================] - 21s 423ms/step - loss: 0.5035 - accuracy: 0.7544\n",
      "Epoch 15/30\n",
      "50/50 [==============================] - 26s 526ms/step - loss: 0.4751 - accuracy: 0.7763\n",
      "Epoch 16/30\n",
      "50/50 [==============================] - 25s 492ms/step - loss: 0.4684 - accuracy: 0.7794\n",
      "Epoch 17/30\n",
      "50/50 [==============================] - 23s 452ms/step - loss: 0.4529 - accuracy: 0.7825\n",
      "Epoch 18/30\n",
      "50/50 [==============================] - 25s 495ms/step - loss: 0.4426 - accuracy: 0.7850\n",
      "Epoch 19/30\n",
      "50/50 [==============================] - 23s 461ms/step - loss: 0.3975 - accuracy: 0.8275\n",
      "Epoch 20/30\n",
      "50/50 [==============================] - 24s 485ms/step - loss: 0.3902 - accuracy: 0.8231\n",
      "Epoch 21/30\n",
      "50/50 [==============================] - 26s 521ms/step - loss: 0.3635 - accuracy: 0.8400\n",
      "Epoch 22/30\n",
      "50/50 [==============================] - 24s 473ms/step - loss: 0.3578 - accuracy: 0.8394\n",
      "Epoch 23/30\n",
      "50/50 [==============================] - 26s 520ms/step - loss: 0.3446 - accuracy: 0.8494\n",
      "Epoch 24/30\n",
      "50/50 [==============================] - 23s 463ms/step - loss: 0.3116 - accuracy: 0.8656\n",
      "Epoch 25/30\n",
      "50/50 [==============================] - 23s 453ms/step - loss: 0.2731 - accuracy: 0.8944\n",
      "Epoch 26/30\n",
      "50/50 [==============================] - 24s 488ms/step - loss: 0.2544 - accuracy: 0.8931\n",
      "Epoch 27/30\n",
      "50/50 [==============================] - 23s 456ms/step - loss: 0.2323 - accuracy: 0.9144\n",
      "Epoch 28/30\n",
      "50/50 [==============================] - 22s 444ms/step - loss: 0.2549 - accuracy: 0.8875\n",
      "Epoch 29/30\n",
      "50/50 [==============================] - 22s 445ms/step - loss: 0.2139 - accuracy: 0.9112\n",
      "Epoch 30/30\n",
      "50/50 [==============================] - 23s 453ms/step - loss: 0.1861 - accuracy: 0.9225\n"
     ]
    },
    {
     "data": {
      "text/plain": [
       "<keras.callbacks.callbacks.History at 0x24c9fdf2748>"
      ]
     },
     "execution_count": 544,
     "metadata": {},
     "output_type": "execute_result"
    }
   ],
   "source": [
    "model.fit_generator(train_generator, \n",
    "                    steps_per_epoch=train_generator.n // batch_size,\n",
    "                    epochs = 30)"
   ]
  },
  {
   "cell_type": "code",
   "execution_count": 546,
   "metadata": {},
   "outputs": [],
   "source": [
    "score = model.evaluate_generator(test_generator, steps = test_generator.n)"
   ]
  },
  {
   "cell_type": "code",
   "execution_count": 550,
   "metadata": {},
   "outputs": [
    {
     "name": "stdout",
     "output_type": "stream",
     "text": [
      "test loss : 0.0329279899597168 | test accuracy : 0.7487804889678955\n"
     ]
    }
   ],
   "source": [
    "print(f\"test {model.metrics_names[0]} : {score[0]} | test {model.metrics_names[1]} : {score[1]}\")"
   ]
  },
  {
   "cell_type": "markdown",
   "metadata": {},
   "source": [
    "# LSTM TimeSeries Forecasting PyTorch"
   ]
  },
  {
   "cell_type": "code",
   "execution_count": 613,
   "metadata": {},
   "outputs": [],
   "source": [
    "data = pd.read_csv(\"Sales_Transactions_Dataset_Weekly.csv\")"
   ]
  },
  {
   "cell_type": "code",
   "execution_count": 623,
   "metadata": {},
   "outputs": [],
   "source": [
    "data1 = pd.DataFrame(data)"
   ]
  },
  {
   "cell_type": "code",
   "execution_count": 968,
   "metadata": {},
   "outputs": [
    {
     "data": {
      "text/html": [
       "<div>\n",
       "<style scoped>\n",
       "    .dataframe tbody tr th:only-of-type {\n",
       "        vertical-align: middle;\n",
       "    }\n",
       "\n",
       "    .dataframe tbody tr th {\n",
       "        vertical-align: top;\n",
       "    }\n",
       "\n",
       "    .dataframe thead th {\n",
       "        text-align: right;\n",
       "    }\n",
       "</style>\n",
       "<table border=\"1\" class=\"dataframe\">\n",
       "  <thead>\n",
       "    <tr style=\"text-align: right;\">\n",
       "      <th></th>\n",
       "      <th>0</th>\n",
       "      <th>1</th>\n",
       "      <th>2</th>\n",
       "      <th>3</th>\n",
       "      <th>4</th>\n",
       "      <th>5</th>\n",
       "      <th>6</th>\n",
       "      <th>7</th>\n",
       "      <th>8</th>\n",
       "      <th>9</th>\n",
       "      <th>...</th>\n",
       "      <th>801</th>\n",
       "      <th>802</th>\n",
       "      <th>803</th>\n",
       "      <th>804</th>\n",
       "      <th>805</th>\n",
       "      <th>806</th>\n",
       "      <th>807</th>\n",
       "      <th>808</th>\n",
       "      <th>809</th>\n",
       "      <th>810</th>\n",
       "    </tr>\n",
       "  </thead>\n",
       "  <tbody>\n",
       "    <tr>\n",
       "      <th>Product_Code</th>\n",
       "      <td>P1</td>\n",
       "      <td>P2</td>\n",
       "      <td>P3</td>\n",
       "      <td>P4</td>\n",
       "      <td>P5</td>\n",
       "      <td>P6</td>\n",
       "      <td>P7</td>\n",
       "      <td>P8</td>\n",
       "      <td>P9</td>\n",
       "      <td>P10</td>\n",
       "      <td>...</td>\n",
       "      <td>P810</td>\n",
       "      <td>P811</td>\n",
       "      <td>P812</td>\n",
       "      <td>P813</td>\n",
       "      <td>P814</td>\n",
       "      <td>P815</td>\n",
       "      <td>P816</td>\n",
       "      <td>P817</td>\n",
       "      <td>P818</td>\n",
       "      <td>P819</td>\n",
       "    </tr>\n",
       "    <tr>\n",
       "      <th>W0</th>\n",
       "      <td>11</td>\n",
       "      <td>7</td>\n",
       "      <td>7</td>\n",
       "      <td>12</td>\n",
       "      <td>8</td>\n",
       "      <td>3</td>\n",
       "      <td>4</td>\n",
       "      <td>8</td>\n",
       "      <td>14</td>\n",
       "      <td>22</td>\n",
       "      <td>...</td>\n",
       "      <td>0</td>\n",
       "      <td>5</td>\n",
       "      <td>3</td>\n",
       "      <td>1</td>\n",
       "      <td>4</td>\n",
       "      <td>0</td>\n",
       "      <td>0</td>\n",
       "      <td>1</td>\n",
       "      <td>0</td>\n",
       "      <td>0</td>\n",
       "    </tr>\n",
       "    <tr>\n",
       "      <th>W1</th>\n",
       "      <td>12</td>\n",
       "      <td>6</td>\n",
       "      <td>11</td>\n",
       "      <td>8</td>\n",
       "      <td>5</td>\n",
       "      <td>3</td>\n",
       "      <td>8</td>\n",
       "      <td>6</td>\n",
       "      <td>9</td>\n",
       "      <td>19</td>\n",
       "      <td>...</td>\n",
       "      <td>0</td>\n",
       "      <td>1</td>\n",
       "      <td>2</td>\n",
       "      <td>1</td>\n",
       "      <td>2</td>\n",
       "      <td>0</td>\n",
       "      <td>1</td>\n",
       "      <td>0</td>\n",
       "      <td>0</td>\n",
       "      <td>1</td>\n",
       "    </tr>\n",
       "    <tr>\n",
       "      <th>W2</th>\n",
       "      <td>10</td>\n",
       "      <td>3</td>\n",
       "      <td>8</td>\n",
       "      <td>13</td>\n",
       "      <td>13</td>\n",
       "      <td>2</td>\n",
       "      <td>3</td>\n",
       "      <td>10</td>\n",
       "      <td>10</td>\n",
       "      <td>19</td>\n",
       "      <td>...</td>\n",
       "      <td>1</td>\n",
       "      <td>3</td>\n",
       "      <td>0</td>\n",
       "      <td>1</td>\n",
       "      <td>2</td>\n",
       "      <td>1</td>\n",
       "      <td>0</td>\n",
       "      <td>0</td>\n",
       "      <td>0</td>\n",
       "      <td>0</td>\n",
       "    </tr>\n",
       "    <tr>\n",
       "      <th>W3</th>\n",
       "      <td>8</td>\n",
       "      <td>2</td>\n",
       "      <td>9</td>\n",
       "      <td>5</td>\n",
       "      <td>11</td>\n",
       "      <td>7</td>\n",
       "      <td>7</td>\n",
       "      <td>9</td>\n",
       "      <td>7</td>\n",
       "      <td>29</td>\n",
       "      <td>...</td>\n",
       "      <td>0</td>\n",
       "      <td>5</td>\n",
       "      <td>0</td>\n",
       "      <td>3</td>\n",
       "      <td>6</td>\n",
       "      <td>0</td>\n",
       "      <td>0</td>\n",
       "      <td>0</td>\n",
       "      <td>1</td>\n",
       "      <td>0</td>\n",
       "    </tr>\n",
       "  </tbody>\n",
       "</table>\n",
       "<p>5 rows × 811 columns</p>\n",
       "</div>"
      ],
      "text/plain": [
       "             0   1   2   3   4   5   6   7   8    9    ...   801   802   803  \\\n",
       "Product_Code  P1  P2  P3  P4  P5  P6  P7  P8  P9  P10  ...  P810  P811  P812   \n",
       "W0            11   7   7  12   8   3   4   8  14   22  ...     0     5     3   \n",
       "W1            12   6  11   8   5   3   8   6   9   19  ...     0     1     2   \n",
       "W2            10   3   8  13  13   2   3  10  10   19  ...     1     3     0   \n",
       "W3             8   2   9   5  11   7   7   9   7   29  ...     0     5     0   \n",
       "\n",
       "               804   805   806   807   808   809   810  \n",
       "Product_Code  P813  P814  P815  P816  P817  P818  P819  \n",
       "W0               1     4     0     0     1     0     0  \n",
       "W1               1     2     0     1     0     0     1  \n",
       "W2               1     2     1     0     0     0     0  \n",
       "W3               3     6     0     0     0     1     0  \n",
       "\n",
       "[5 rows x 811 columns]"
      ]
     },
     "execution_count": 968,
     "metadata": {},
     "output_type": "execute_result"
    }
   ],
   "source": [
    "data1.T.head() ## W - Week | P - Product"
   ]
  },
  {
   "cell_type": "code",
   "execution_count": 963,
   "metadata": {},
   "outputs": [
    {
     "name": "stdout",
     "output_type": "stream",
     "text": [
      "<class 'pandas.core.frame.DataFrame'>\n",
      "RangeIndex: 811 entries, 0 to 810\n",
      "Columns: 107 entries, Product_Code to Normalized 51\n",
      "dtypes: float64(52), int64(54), object(1)\n",
      "memory usage: 678.1+ KB\n"
     ]
    }
   ],
   "source": [
    "data1.info()"
   ]
  },
  {
   "cell_type": "code",
   "execution_count": 640,
   "metadata": {},
   "outputs": [
    {
     "data": {
      "text/html": [
       "<div>\n",
       "<style scoped>\n",
       "    .dataframe tbody tr th:only-of-type {\n",
       "        vertical-align: middle;\n",
       "    }\n",
       "\n",
       "    .dataframe tbody tr th {\n",
       "        vertical-align: top;\n",
       "    }\n",
       "\n",
       "    .dataframe thead th {\n",
       "        text-align: right;\n",
       "    }\n",
       "</style>\n",
       "<table border=\"1\" class=\"dataframe\">\n",
       "  <thead>\n",
       "    <tr style=\"text-align: right;\">\n",
       "      <th></th>\n",
       "      <th>W0</th>\n",
       "      <th>W1</th>\n",
       "      <th>W2</th>\n",
       "      <th>W3</th>\n",
       "      <th>W4</th>\n",
       "      <th>W5</th>\n",
       "      <th>W6</th>\n",
       "      <th>W7</th>\n",
       "      <th>W8</th>\n",
       "      <th>W9</th>\n",
       "      <th>...</th>\n",
       "      <th>Normalized 42</th>\n",
       "      <th>Normalized 43</th>\n",
       "      <th>Normalized 44</th>\n",
       "      <th>Normalized 45</th>\n",
       "      <th>Normalized 46</th>\n",
       "      <th>Normalized 47</th>\n",
       "      <th>Normalized 48</th>\n",
       "      <th>Normalized 49</th>\n",
       "      <th>Normalized 50</th>\n",
       "      <th>Normalized 51</th>\n",
       "    </tr>\n",
       "  </thead>\n",
       "  <tbody>\n",
       "    <tr>\n",
       "      <th>count</th>\n",
       "      <td>811.000000</td>\n",
       "      <td>811.000000</td>\n",
       "      <td>811.000000</td>\n",
       "      <td>811.000000</td>\n",
       "      <td>811.000000</td>\n",
       "      <td>811.000000</td>\n",
       "      <td>811.000000</td>\n",
       "      <td>811.000000</td>\n",
       "      <td>811.000000</td>\n",
       "      <td>811.000000</td>\n",
       "      <td>...</td>\n",
       "      <td>811.000000</td>\n",
       "      <td>811.000000</td>\n",
       "      <td>811.000000</td>\n",
       "      <td>811.000000</td>\n",
       "      <td>811.000000</td>\n",
       "      <td>811.000000</td>\n",
       "      <td>811.00000</td>\n",
       "      <td>811.000000</td>\n",
       "      <td>811.000000</td>\n",
       "      <td>811.000000</td>\n",
       "    </tr>\n",
       "    <tr>\n",
       "      <th>mean</th>\n",
       "      <td>8.902589</td>\n",
       "      <td>9.129470</td>\n",
       "      <td>9.389642</td>\n",
       "      <td>9.717633</td>\n",
       "      <td>9.574599</td>\n",
       "      <td>9.466091</td>\n",
       "      <td>9.720099</td>\n",
       "      <td>9.585697</td>\n",
       "      <td>9.784217</td>\n",
       "      <td>9.681874</td>\n",
       "      <td>...</td>\n",
       "      <td>0.299149</td>\n",
       "      <td>0.287571</td>\n",
       "      <td>0.304846</td>\n",
       "      <td>0.316017</td>\n",
       "      <td>0.334760</td>\n",
       "      <td>0.314636</td>\n",
       "      <td>0.33815</td>\n",
       "      <td>0.358903</td>\n",
       "      <td>0.373009</td>\n",
       "      <td>0.427941</td>\n",
       "    </tr>\n",
       "    <tr>\n",
       "      <th>std</th>\n",
       "      <td>12.067163</td>\n",
       "      <td>12.564766</td>\n",
       "      <td>13.045073</td>\n",
       "      <td>13.553294</td>\n",
       "      <td>13.095765</td>\n",
       "      <td>12.823195</td>\n",
       "      <td>13.347375</td>\n",
       "      <td>13.049138</td>\n",
       "      <td>13.550237</td>\n",
       "      <td>13.137916</td>\n",
       "      <td>...</td>\n",
       "      <td>0.266993</td>\n",
       "      <td>0.256630</td>\n",
       "      <td>0.263396</td>\n",
       "      <td>0.262226</td>\n",
       "      <td>0.275203</td>\n",
       "      <td>0.266029</td>\n",
       "      <td>0.27569</td>\n",
       "      <td>0.286665</td>\n",
       "      <td>0.295197</td>\n",
       "      <td>0.342360</td>\n",
       "    </tr>\n",
       "    <tr>\n",
       "      <th>min</th>\n",
       "      <td>0.000000</td>\n",
       "      <td>0.000000</td>\n",
       "      <td>0.000000</td>\n",
       "      <td>0.000000</td>\n",
       "      <td>0.000000</td>\n",
       "      <td>0.000000</td>\n",
       "      <td>0.000000</td>\n",
       "      <td>0.000000</td>\n",
       "      <td>0.000000</td>\n",
       "      <td>0.000000</td>\n",
       "      <td>...</td>\n",
       "      <td>0.000000</td>\n",
       "      <td>0.000000</td>\n",
       "      <td>0.000000</td>\n",
       "      <td>0.000000</td>\n",
       "      <td>0.000000</td>\n",
       "      <td>0.000000</td>\n",
       "      <td>0.00000</td>\n",
       "      <td>0.000000</td>\n",
       "      <td>0.000000</td>\n",
       "      <td>0.000000</td>\n",
       "    </tr>\n",
       "    <tr>\n",
       "      <th>25%</th>\n",
       "      <td>0.000000</td>\n",
       "      <td>0.000000</td>\n",
       "      <td>0.000000</td>\n",
       "      <td>0.000000</td>\n",
       "      <td>0.000000</td>\n",
       "      <td>0.000000</td>\n",
       "      <td>0.000000</td>\n",
       "      <td>0.000000</td>\n",
       "      <td>0.000000</td>\n",
       "      <td>0.000000</td>\n",
       "      <td>...</td>\n",
       "      <td>0.000000</td>\n",
       "      <td>0.000000</td>\n",
       "      <td>0.000000</td>\n",
       "      <td>0.020000</td>\n",
       "      <td>0.085000</td>\n",
       "      <td>0.000000</td>\n",
       "      <td>0.10500</td>\n",
       "      <td>0.100000</td>\n",
       "      <td>0.110000</td>\n",
       "      <td>0.090000</td>\n",
       "    </tr>\n",
       "    <tr>\n",
       "      <th>50%</th>\n",
       "      <td>3.000000</td>\n",
       "      <td>3.000000</td>\n",
       "      <td>3.000000</td>\n",
       "      <td>4.000000</td>\n",
       "      <td>4.000000</td>\n",
       "      <td>3.000000</td>\n",
       "      <td>4.000000</td>\n",
       "      <td>4.000000</td>\n",
       "      <td>4.000000</td>\n",
       "      <td>4.000000</td>\n",
       "      <td>...</td>\n",
       "      <td>0.280000</td>\n",
       "      <td>0.270000</td>\n",
       "      <td>0.300000</td>\n",
       "      <td>0.310000</td>\n",
       "      <td>0.330000</td>\n",
       "      <td>0.310000</td>\n",
       "      <td>0.33000</td>\n",
       "      <td>0.330000</td>\n",
       "      <td>0.350000</td>\n",
       "      <td>0.430000</td>\n",
       "    </tr>\n",
       "    <tr>\n",
       "      <th>75%</th>\n",
       "      <td>12.000000</td>\n",
       "      <td>12.000000</td>\n",
       "      <td>12.000000</td>\n",
       "      <td>13.000000</td>\n",
       "      <td>13.000000</td>\n",
       "      <td>12.500000</td>\n",
       "      <td>13.000000</td>\n",
       "      <td>12.500000</td>\n",
       "      <td>13.000000</td>\n",
       "      <td>13.000000</td>\n",
       "      <td>...</td>\n",
       "      <td>0.490000</td>\n",
       "      <td>0.450000</td>\n",
       "      <td>0.500000</td>\n",
       "      <td>0.500000</td>\n",
       "      <td>0.500000</td>\n",
       "      <td>0.500000</td>\n",
       "      <td>0.50000</td>\n",
       "      <td>0.550000</td>\n",
       "      <td>0.560000</td>\n",
       "      <td>0.670000</td>\n",
       "    </tr>\n",
       "    <tr>\n",
       "      <th>max</th>\n",
       "      <td>54.000000</td>\n",
       "      <td>53.000000</td>\n",
       "      <td>56.000000</td>\n",
       "      <td>59.000000</td>\n",
       "      <td>61.000000</td>\n",
       "      <td>52.000000</td>\n",
       "      <td>56.000000</td>\n",
       "      <td>62.000000</td>\n",
       "      <td>63.000000</td>\n",
       "      <td>52.000000</td>\n",
       "      <td>...</td>\n",
       "      <td>1.000000</td>\n",
       "      <td>1.000000</td>\n",
       "      <td>1.000000</td>\n",
       "      <td>1.000000</td>\n",
       "      <td>1.000000</td>\n",
       "      <td>1.000000</td>\n",
       "      <td>1.00000</td>\n",
       "      <td>1.000000</td>\n",
       "      <td>1.000000</td>\n",
       "      <td>1.000000</td>\n",
       "    </tr>\n",
       "  </tbody>\n",
       "</table>\n",
       "<p>8 rows × 106 columns</p>\n",
       "</div>"
      ],
      "text/plain": [
       "               W0          W1          W2          W3          W4          W5  \\\n",
       "count  811.000000  811.000000  811.000000  811.000000  811.000000  811.000000   \n",
       "mean     8.902589    9.129470    9.389642    9.717633    9.574599    9.466091   \n",
       "std     12.067163   12.564766   13.045073   13.553294   13.095765   12.823195   \n",
       "min      0.000000    0.000000    0.000000    0.000000    0.000000    0.000000   \n",
       "25%      0.000000    0.000000    0.000000    0.000000    0.000000    0.000000   \n",
       "50%      3.000000    3.000000    3.000000    4.000000    4.000000    3.000000   \n",
       "75%     12.000000   12.000000   12.000000   13.000000   13.000000   12.500000   \n",
       "max     54.000000   53.000000   56.000000   59.000000   61.000000   52.000000   \n",
       "\n",
       "               W6          W7          W8          W9  ...  Normalized 42  \\\n",
       "count  811.000000  811.000000  811.000000  811.000000  ...     811.000000   \n",
       "mean     9.720099    9.585697    9.784217    9.681874  ...       0.299149   \n",
       "std     13.347375   13.049138   13.550237   13.137916  ...       0.266993   \n",
       "min      0.000000    0.000000    0.000000    0.000000  ...       0.000000   \n",
       "25%      0.000000    0.000000    0.000000    0.000000  ...       0.000000   \n",
       "50%      4.000000    4.000000    4.000000    4.000000  ...       0.280000   \n",
       "75%     13.000000   12.500000   13.000000   13.000000  ...       0.490000   \n",
       "max     56.000000   62.000000   63.000000   52.000000  ...       1.000000   \n",
       "\n",
       "       Normalized 43  Normalized 44  Normalized 45  Normalized 46  \\\n",
       "count     811.000000     811.000000     811.000000     811.000000   \n",
       "mean        0.287571       0.304846       0.316017       0.334760   \n",
       "std         0.256630       0.263396       0.262226       0.275203   \n",
       "min         0.000000       0.000000       0.000000       0.000000   \n",
       "25%         0.000000       0.000000       0.020000       0.085000   \n",
       "50%         0.270000       0.300000       0.310000       0.330000   \n",
       "75%         0.450000       0.500000       0.500000       0.500000   \n",
       "max         1.000000       1.000000       1.000000       1.000000   \n",
       "\n",
       "       Normalized 47  Normalized 48  Normalized 49  Normalized 50  \\\n",
       "count     811.000000      811.00000     811.000000     811.000000   \n",
       "mean        0.314636        0.33815       0.358903       0.373009   \n",
       "std         0.266029        0.27569       0.286665       0.295197   \n",
       "min         0.000000        0.00000       0.000000       0.000000   \n",
       "25%         0.000000        0.10500       0.100000       0.110000   \n",
       "50%         0.310000        0.33000       0.330000       0.350000   \n",
       "75%         0.500000        0.50000       0.550000       0.560000   \n",
       "max         1.000000        1.00000       1.000000       1.000000   \n",
       "\n",
       "       Normalized 51  \n",
       "count     811.000000  \n",
       "mean        0.427941  \n",
       "std         0.342360  \n",
       "min         0.000000  \n",
       "25%         0.090000  \n",
       "50%         0.430000  \n",
       "75%         0.670000  \n",
       "max         1.000000  \n",
       "\n",
       "[8 rows x 106 columns]"
      ]
     },
     "execution_count": 640,
     "metadata": {},
     "output_type": "execute_result"
    }
   ],
   "source": [
    "data1.describe()"
   ]
  },
  {
   "cell_type": "code",
   "execution_count": 680,
   "metadata": {},
   "outputs": [],
   "source": [
    "ind = [data1.columns[i] for i in range(len(data1.columns)) if (\"W\" not in  data1.columns[i]) == True ]"
   ]
  },
  {
   "cell_type": "code",
   "execution_count": null,
   "metadata": {},
   "outputs": [],
   "source": [
    "normal_data = data1.drop(['Product_Code'],axis = 1)[ind[3:]].T\n",
    "data_train = normal_data[range(20)][:45]\n",
    "data_test  = data1.drop(['Product_Code'],axis = 1).T[range(20)][45:52]"
   ]
  },
  {
   "cell_type": "code",
   "execution_count": 820,
   "metadata": {},
   "outputs": [
    {
     "data": {
      "text/plain": [
       "[<matplotlib.lines.Line2D at 0x24cae2b0ec8>,\n",
       " <matplotlib.lines.Line2D at 0x24cae2b92c8>,\n",
       " <matplotlib.lines.Line2D at 0x24cae2b9488>]"
      ]
     },
     "execution_count": 820,
     "metadata": {},
     "output_type": "execute_result"
    },
    {
     "data": {
      "image/png": "[encoded data removed]",
      "text/plain": [
       "<Figure size 432x288 with 1 Axes>"
      ]
     },
     "metadata": {
      "needs_background": "light"
     },
     "output_type": "display_data"
    }
   ],
   "source": [
    "plt.plot(range(45),data_train[[0,1,2]])"
   ]
  },
  {
   "cell_type": "code",
   "execution_count": 965,
   "metadata": {},
   "outputs": [
    {
     "data": {
      "text/plain": [
       "<matplotlib.axes._subplots.AxesSubplot at 0x24cb1b6da48>"
      ]
     },
     "execution_count": 965,
     "metadata": {},
     "output_type": "execute_result"
    },
    {
     "data": {
      "image/png": "[encoded data removed]",
      "text/plain": [
       "<Figure size 432x288 with 2 Axes>"
      ]
     },
     "metadata": {
      "needs_background": "light"
     },
     "output_type": "display_data"
    }
   ],
   "source": [
    "import seaborn as sns \n",
    "sns.heatmap(data_train.corr())"
   ]
  },
  {
   "cell_type": "code",
   "execution_count": 966,
   "metadata": {},
   "outputs": [],
   "source": [
    "data_train_normalized = torch.FloatTensor(np.array(data_train))"
   ]
  },
  {
   "cell_type": "code",
   "execution_count": 761,
   "metadata": {},
   "outputs": [],
   "source": [
    "train_window = 4 ## a month\n",
    "\n",
    "def create_inout_sequences(input_data, tw):\n",
    "    inout_seq = []\n",
    "    L = len(input_data)\n",
    "    for i in range(L-tw):\n",
    "        train_seq = input_data[i:i+tw]\n",
    "        train_label = input_data[i+tw:i+tw+1]\n",
    "        inout_seq.append((train_seq ,train_label))\n",
    "    return inout_seq"
   ]
  },
  {
   "cell_type": "code",
   "execution_count": 762,
   "metadata": {},
   "outputs": [],
   "source": [
    "train_inout_seq = create_inout_sequences(data_train_normalized, train_window)"
   ]
  },
  {
   "cell_type": "code",
   "execution_count": 791,
   "metadata": {},
   "outputs": [],
   "source": [
    "class LSTM(nn.Module):\n",
    "    def __init__(self, input_size= 20, hidden_layer_size=200, output_size=20):\n",
    "        super().__init__()\n",
    "        self.hidden_layer_size = hidden_layer_size\n",
    "\n",
    "        self.lstm = nn.LSTM(input_size, hidden_layer_size)\n",
    "\n",
    "        self.linear = nn.Linear(hidden_layer_size, output_size)\n",
    "\n",
    "        self.hidden_cell = (torch.zeros(1,1,self.hidden_layer_size),\n",
    "                            torch.zeros(1,1,self.hidden_layer_size))\n",
    "\n",
    "    def forward(self, input_seq):\n",
    "        lstm_out, self.hidden_cell = self.lstm(input_seq.view(len(input_seq) ,1, -1), self.hidden_cell)\n",
    "        predictions = self.linear(lstm_out.view(len(input_seq), -1))\n",
    "        return predictions[-1]"
   ]
  },
  {
   "cell_type": "code",
   "execution_count": 792,
   "metadata": {},
   "outputs": [],
   "source": [
    "model = LSTM()\n",
    "loss_function = nn.MSELoss()\n",
    "optimizer = torch.optim.Adam(model.parameters(), lr=0.001)"
   ]
  },
  {
   "cell_type": "code",
   "execution_count": 786,
   "metadata": {},
   "outputs": [
    {
     "name": "stdout",
     "output_type": "stream",
     "text": [
      "LSTM(\n",
      "  (lstm): LSTM(20, 200)\n",
      "  (linear): Linear(in_features=200, out_features=20, bias=True)\n",
      ")\n"
     ]
    }
   ],
   "source": [
    "print(model)"
   ]
  },
  {
   "cell_type": "code",
   "execution_count": 783,
   "metadata": {},
   "outputs": [
    {
     "name": "stderr",
     "output_type": "stream",
     "text": [
      "C:\\Anaconda\\lib\\site-packages\\torch\\nn\\modules\\loss.py:446: UserWarning: Using a target size (torch.Size([1, 20])) that is different to the input size (torch.Size([20])). This will likely lead to incorrect results due to broadcasting. Please ensure they have the same size.\n",
      "  return F.mse_loss(input, target, reduction=self.reduction)\n"
     ]
    },
    {
     "name": "stdout",
     "output_type": "stream",
     "text": [
      "epoch:   1 loss: 0.03278933\n",
      "epoch:  26 loss: 0.02544103\n",
      "epoch:  51 loss: 0.00322549\n",
      "epoch:  76 loss: 0.00068861\n",
      "epoch: 101 loss: 0.00193814\n",
      "epoch: 126 loss: 0.00137959\n",
      "epoch: 149 loss: 0.0011753625\n"
     ]
    }
   ],
   "source": [
    "epochs = 150\n",
    "\n",
    "for i in range(epochs):\n",
    "    for seq, labels in train_inout_seq:\n",
    "        optimizer.zero_grad()\n",
    "        model.hidden_cell = (torch.zeros(1, 1, model.hidden_layer_size),\n",
    "                        torch.zeros(1, 1, model.hidden_layer_size))\n",
    "\n",
    "        y_pred = model(seq)\n",
    "\n",
    "        single_loss = loss_function(y_pred, labels)\n",
    "        single_loss.backward()\n",
    "        optimizer.step()\n",
    "\n",
    "    if i%25 == 1:\n",
    "        print(f'epoch: {i:3} loss: {single_loss.item():10.8f}')\n",
    "\n",
    "print(f'epoch: {i:3} loss: {single_loss.item():10.10f}')"
   ]
  },
  {
   "cell_type": "code",
   "execution_count": 795,
   "metadata": {},
   "outputs": [
    {
     "name": "stdout",
     "output_type": "stream",
     "text": [
      "[[0.4399999976158142, 0.5, 0.18000000715255737, 0.23999999463558197, 0.33000001311302185, 0.36000001430511475, 0.800000011920929, 0.5, 0.33000001311302185, 0.33000001311302185, 0.4399999976158142, 0.4399999976158142, 0.20999999344348907, 0.18000000715255737, 0.36000001430511475, 0.3799999952316284, 0.3100000023841858, 0.6800000071525574, 0.07000000029802322, 0.4699999988079071], [0.05999999865889549, 0.20000000298023224, 0.27000001072883606, 0.4099999964237213, 0.27000001072883606, 0.36000001430511475, 0.20000000298023224, 0.5799999833106995, 0.5299999713897705, 0.20999999344348907, 0.3799999952316284, 0.4399999976158142, 0.20999999344348907, 0.5, 0.5799999833106995, 0.5600000023841858, 0.5400000214576721, 0.36000001430511475, 0.4099999964237213, 0.33000001311302185], [0.2199999988079071, 0.4000000059604645, 1.0, 0.4699999988079071, 0.5299999713897705, 0.18000000715255737, 0.30000001192092896, 0.9200000166893005, 0.12999999523162842, 0.33000001311302185, 0.6899999976158142, 0.2199999988079071, 0.4699999988079071, 0.14000000059604645, 0.47999998927116394, 0.25, 0.4000000059604645, 0.3199999928474426, 0.0, 0.4000000059604645], [0.2800000011920929, 0.5, 0.18000000715255737, 0.05999999865889549, 0.27000001072883606, 0.36000001430511475, 0.30000001192092896, 0.07999999821186066, 0.6700000166893005, 0.07999999821186066, 0.4399999976158142, 0.4399999976158142, 0.25999999046325684, 0.0, 0.41999998688697815, 0.3400000035762787, 0.5400000214576721, 0.3199999928474426, 0.17000000178813934, 0.4000000059604645]]\n"
     ]
    }
   ],
   "source": [
    "fut_pred = 4\n",
    "\n",
    "test_inputs = data_train_normalized[-train_window:].tolist()\n",
    "print(test_inputs)"
   ]
  },
  {
   "cell_type": "code",
   "execution_count": 821,
   "metadata": {},
   "outputs": [],
   "source": [
    "model.eval()\n",
    "\n",
    "for i in range(fut_pred):\n",
    "    seq = torch.FloatTensor(test_inputs[-train_window:])\n",
    "    with torch.no_grad():\n",
    "        model.hidden = (torch.zeros(1, 1, model.hidden_layer_size),\n",
    "                        torch.zeros(1, 1, model.hidden_layer_size))\n",
    "    \n",
    "        test_inputs.append(model(seq))"
   ]
  },
  {
   "cell_type": "code",
   "execution_count": 822,
   "metadata": {},
   "outputs": [
    {
     "data": {
      "text/plain": [
       "[tensor([-0.0503, -0.0019, -0.0026, -0.0325, -0.0482, -0.0650, -0.0378,  0.0706,\n",
       "          0.0746,  0.0186, -0.0014, -0.0295, -0.0418, -0.0320,  0.0391,  0.0335,\n",
       "         -0.0401,  0.0208, -0.0439,  0.0051]),\n",
       " tensor([-0.0570, -0.0135,  0.0103, -0.0395, -0.0243, -0.0687, -0.0327,  0.0589,\n",
       "          0.0542,  0.0196,  0.0081, -0.0238, -0.0359, -0.0417,  0.0362,  0.0346,\n",
       "         -0.0322,  0.0247, -0.0436,  0.0123]),\n",
       " tensor([-0.0561, -0.0210,  0.0196, -0.0395, -0.0121, -0.0718, -0.0297,  0.0533,\n",
       "          0.0430,  0.0213,  0.0130, -0.0191, -0.0303, -0.0527,  0.0271,  0.0314,\n",
       "         -0.0290,  0.0327, -0.0447,  0.0163]),\n",
       " tensor([-0.0531, -0.0258,  0.0255, -0.0382, -0.0086, -0.0731, -0.0283,  0.0504,\n",
       "          0.0386,  0.0226,  0.0137, -0.0153, -0.0260, -0.0611,  0.0187,  0.0290,\n",
       "         -0.0285,  0.0400, -0.0442,  0.0178])]"
      ]
     },
     "execution_count": 822,
     "metadata": {},
     "output_type": "execute_result"
    }
   ],
   "source": [
    "test_inputs[fut_pred:]"
   ]
  },
  {
   "cell_type": "code",
   "execution_count": 954,
   "metadata": {},
   "outputs": [],
   "source": [
    "from sklearn.preprocessing import MinMaxScaler\n",
    "\n",
    "ind = [data1.columns[i] for i in range(len(data1.columns)) if (\"W\"  in  data1.columns[i]) == True ]\n",
    "data_raw = data[ind]\n",
    "scaler = MinMaxScaler(feature_range=(-1, 1))\n",
    "train_data_normalized = scaler.fit_transform(data_raw.T[range(20)])"
   ]
  },
  {
   "cell_type": "code",
   "execution_count": 955,
   "metadata": {},
   "outputs": [
    {
     "data": {
      "text/plain": [
       "[tensor([-0.0503, -0.0019, -0.0026, -0.0325, -0.0482, -0.0650, -0.0378,  0.0706,\n",
       "          0.0746,  0.0186, -0.0014, -0.0295, -0.0418, -0.0320,  0.0391,  0.0335,\n",
       "         -0.0401,  0.0208, -0.0439,  0.0051]),\n",
       " tensor([-0.0570, -0.0135,  0.0103, -0.0395, -0.0243, -0.0687, -0.0327,  0.0589,\n",
       "          0.0542,  0.0196,  0.0081, -0.0238, -0.0359, -0.0417,  0.0362,  0.0346,\n",
       "         -0.0322,  0.0247, -0.0436,  0.0123]),\n",
       " tensor([-0.0561, -0.0210,  0.0196, -0.0395, -0.0121, -0.0718, -0.0297,  0.0533,\n",
       "          0.0430,  0.0213,  0.0130, -0.0191, -0.0303, -0.0527,  0.0271,  0.0314,\n",
       "         -0.0290,  0.0327, -0.0447,  0.0163]),\n",
       " tensor([-0.0531, -0.0258,  0.0255, -0.0382, -0.0086, -0.0731, -0.0283,  0.0504,\n",
       "          0.0386,  0.0226,  0.0137, -0.0153, -0.0260, -0.0611,  0.0187,  0.0290,\n",
       "         -0.0285,  0.0400, -0.0442,  0.0178])]"
      ]
     },
     "execution_count": 955,
     "metadata": {},
     "output_type": "execute_result"
    }
   ],
   "source": [
    "test_inputs[train_window:]\n"
   ]
  },
  {
   "cell_type": "code",
   "execution_count": 962,
   "metadata": {},
   "outputs": [],
   "source": [
    "actual_predictions = [scaler.inverse_transform(np.array(test_inputs[train_window:][i]).reshape(-1, 20))  for i in  range(train_window)]\n",
    "actual_predictions = pd.DataFrame(np.array(actual_predictions).reshape(-1,20))\n"
   ]
  },
  {
   "cell_type": "code",
   "execution_count": 961,
   "metadata": {},
   "outputs": [
    {
     "data": {
      "image/png": "[encoded data removed]",
      "text/plain": [
       "<Figure size 432x288 with 1 Axes>"
      ]
     },
     "metadata": {
      "needs_background": "light"
     },
     "output_type": "display_data"
    }
   ],
   "source": [
    "plt.grid(True)\n",
    "plt.autoscale(axis='x', tight=True)\n",
    "plt.plot(data_raw.T[4][:])\n",
    "plt.plot(x,actual_predictions[4])\n",
    "plt.show()"
   ]
  }
 ],
 "metadata": {
  "kernelspec": {
   "display_name": "Python 3",
   "language": "python",
   "name": "python3"
  },
  "language_info": {
   "codemirror_mode": {
    "name": "ipython",
    "version": 3
   },
   "file_extension": ".py",
   "mimetype": "text/x-python",
   "name": "python",
   "nbconvert_exporter": "python",
   "pygments_lexer": "ipython3",
   "version": "3.7.4"
  }
 },
 "nbformat": 4,
 "nbformat_minor": 2
}
