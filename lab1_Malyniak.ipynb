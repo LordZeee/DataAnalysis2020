{
 "cells": [
  {
   "cell_type": "code",
   "execution_count": 9,
   "metadata": {},
   "outputs": [],
   "source": [
    "import numpy as np\n",
    "import matplotlib.pyplot as plt\n",
    "import numpy as np "
   ]
  },
  {
   "cell_type": "markdown",
   "metadata": {},
   "source": [
    "Линейная регрессия (1D)\n",
    "Сгенерируйте синтетический набор точек вида y = ax+b+noise. Решите задачу линейной\n",
    "регрессии для множества точек (x, y). Поиск параметров произведите с помощью\n",
    "градиентного спуска. Результат — параметры линейной регрессии.\n",
    "2. Логистическая регрессия (2D)\n",
    "Сгенерируйте два синтетических набора точек на плоскости, добавьте им метки классов (2\n",
    "класса). Визуализируйте множества (matplotlib). Разделите данные на тренировочный и\n",
    "тестовый набор. Реализуйте логистическую регрессию. Проверьте точность полученного\n",
    "алгоритма с помощью метрики accuracy (на тестовом множестве).\n",
    "3. Дерево принятия решений (2D)\n",
    "Рассмотрите те же данные, что и в задании 2. Разделите точки на классы с помощью\n",
    "алгоритма CART(gini criterion). Ограничьте глубину дерева (по вашему выбору). Проверьте\n",
    "точность полученного алгоритма с помощью метрики accuracy на тестовом наборе."
   ]
  },
  {
   "cell_type": "markdown",
   "metadata": {},
   "source": [
    "# Task 1: gradient descent on linear regression"
   ]
  },
  {
   "cell_type": "code",
   "execution_count": 83,
   "metadata": {},
   "outputs": [],
   "source": [
    "def data_1dim(n_samples):\n",
    "    k = np.random.uniform(0,3)\n",
    "    b = np.random.uniform(0,3)\n",
    "    X = np.linspace(1,100,n_samples)\n",
    "    f_d1 = lambda x: k * x + b + (np.random.uniform(4,8) * np.log(x**2))\n",
    "    y = [f_d1(i) for i in X ]\n",
    "    \n",
    "    return k,b,X.reshape(-1,1),np.reshape(y,(-1,1))\n",
    "\n",
    "def hypothesis(theta,X,n):\n",
    "    h = np.ones((X.shape[0],1))\n",
    "    theta = theta.reshape(1,n + 1)\n",
    "    for i in range(0,X.shape[0]):\n",
    "        h[i] = float(np.matmul(theta,X[i]))\n",
    "    h = h.reshape(X.shape[0])\n",
    "    \n",
    "    return h\n",
    "\n",
    "def BGD(theta,alpha,num_iters,h,X,y,n):\n",
    "    cost = np.ones((num_iters,1))\n",
    "    for i in range(num_iters):\n",
    "        theta[0] = theta[0] - alpha/X.shape[0] * sum(h-y)\n",
    "        for j in range(1,n+1):\n",
    "            theta[j] = theta[j] - (alpha/X.shape[0]) *sum((h - y) * X.transpose()[j])\n",
    "            #print(theta[j])\n",
    "        h = hypothesis(theta,X,n)\n",
    "        cost[i] = 1/X.shape[0] * 0.5 *sum(np.square(h - y))\n",
    "        \n",
    "    return theta,cost\n",
    "\n",
    "def linear_regression(X,y,alpha,n_iters):\n",
    "    n = X.shape[1]\n",
    "    one_mat = np.ones((X.shape[0],1))\n",
    "    X = np.concatenate((one_mat,X),axis = 1)\n",
    "    theta = np.zeros(n+1)\n",
    "    h = hypothesis(theta,X,n)\n",
    "    theta_eval,cost = BGD(theta,alpha,n_iters,h,X,y,n)\n",
    "    \n",
    "    return theta_eval,cost"
   ]
  },
  {
   "cell_type": "code",
   "execution_count": 93,
   "metadata": {},
   "outputs": [
    {
     "name": "stdout",
     "output_type": "stream",
     "text": [
      "0.49715762206136627 2.3127890089410843\n"
     ]
    }
   ],
   "source": [
    "from sklearn.model_selection import train_test_split\n",
    "k,b,x,y= data_1dim(300)\n",
    "x = (x - x.mean()) / x.std()\n",
    "#x = np.c_[np.ones(x.shape[0]), x] \n",
    "print(k,b)"
   ]
  },
  {
   "cell_type": "code",
   "execution_count": 94,
   "metadata": {},
   "outputs": [
    {
     "data": {
      "text/plain": [
       "[<matplotlib.lines.Line2D at 0x1fe8db5d8c8>]"
      ]
     },
     "execution_count": 94,
     "metadata": {},
     "output_type": "execute_result"
    },
    {
     "data": {
      "image/png": "[encoded data removed]",
      "text/plain": [
       "<Figure size 432x288 with 1 Axes>"
      ]
     },
     "metadata": {
      "needs_background": "light"
     },
     "output_type": "display_data"
    }
   ],
   "source": [
    "plt.plot(x,y)"
   ]
  },
  {
   "cell_type": "code",
   "execution_count": 109,
   "metadata": {},
   "outputs": [],
   "source": [
    "theta,cost = linear_regression(x,y.reshape(300),0.0001,100)"
   ]
  },
  {
   "cell_type": "code",
   "execution_count": 114,
   "metadata": {},
   "outputs": [
    {
     "name": "stdout",
     "output_type": "stream",
     "text": [
      "0.49715762206136627 2.3127890089410843\n",
      "[0.5999786, 2.3594284]\n"
     ]
    }
   ],
   "source": [
    "print(k,b)\n",
    "print(theta)"
   ]
  },
  {
   "cell_type": "markdown",
   "metadata": {},
   "source": [
    "# Task 2: logistic regression"
   ]
  },
  {
   "cell_type": "code",
   "execution_count": 18,
   "metadata": {},
   "outputs": [],
   "source": [
    "def data_2dim(n_samples):\n",
    "    \n",
    "    X0 = np.linspace(50,150,n_samples)\n",
    "    X1 = np.linspace(5,35,n_samples)\n",
    "    y = np.random.randint(0,2,n_samples)\n",
    "    return np.concatenate([X0.reshape(-1,1),X1.reshape(-1,1)],axis = 1),np.reshape(y,(n_samples))\n",
    "\n",
    "def sigmoid(X, weight):\n",
    "    #%debug\n",
    "    z = np.dot(X, weight[0])\n",
    "    return 1 / (1 + np.exp(-z))\n",
    "\n",
    "def BGD(theta,alpha,num_iters,h,X,y,n):\n",
    "    \n",
    "    cost = np.ones((num_iters,1))\n",
    "    for i in range(num_iters):\n",
    "        theta[0] = theta[0] - alpha/X.shape[0] * sum(h-y)\n",
    "        for j in range(1,n+1):\n",
    "            theta[j] = theta[j] - (alpha/X.shape[0]) *sum((h - y) * X.transpose()[j])\n",
    "            #print(theta[j])\n",
    "        h = hypothesis_(theta,X,n)\n",
    "        cost[i] = 1/X.shape[0] * 0.5 *sum(np.square(h - y))\n",
    "        \n",
    "    return theta,cost\n",
    "\n",
    "def hypothesis_(theta,X,n):\n",
    "    \n",
    "    h = np.ones((X.shape[0],1))\n",
    "    theta = theta.reshape(1,n + 1)\n",
    "    for i in range(0,X.shape[0]):\n",
    "        h[i] = sigmoid(X[i],theta)\n",
    "    h = h.reshape(X.shape[0])\n",
    "    \n",
    "    return h \n",
    "\n",
    "def log_regression(X,y,alpha,n_iters):\n",
    "    \n",
    "    n = X.shape[1]\n",
    "    one_mat = np.ones((X.shape[0],1))\n",
    "    X = np.concatenate((one_mat,X),axis = 1)\n",
    "    theta = np.zeros(n+1)\n",
    "    \n",
    "    h = hypothesis_(theta,X,n)\n",
    "    theta_eval,cost = BGD(theta,alpha,n_iters,h,X,y,n)\n",
    "    \n",
    "    return theta,cost\n",
    "\n",
    "def evaluate_model(x_test,y_test,theta):\n",
    "    \n",
    "    one_mat = np.ones((x_test.shape[0],1))\n",
    "    x_test = np.concatenate((one_mat,x_test),axis = 1)\n",
    "    y_predicted = np.zeros(x_test.shape[0])\n",
    "    for i in range(x_test.shape[0]):\n",
    "        y_predicted[i] = np.dot(x_test[i],theta)\n",
    "    f_ = lambda x :0 if x < 0.5 else 1\n",
    "    y_predicted = [f_(x) for x in y_predicted]\n",
    "    count = 0\n",
    "    for s in range(x_test.shape[0]):\n",
    "        if y_predicted[s] == y_test[s]:\n",
    "            count += 1\n",
    "            \n",
    "    return count/x_test.shape[0] * 100"
   ]
  },
  {
   "cell_type": "code",
   "execution_count": 39,
   "metadata": {},
   "outputs": [
    {
     "name": "stdout",
     "output_type": "stream",
     "text": [
      "(2000, 2) (2000,)\n"
     ]
    }
   ],
   "source": [
    "from sklearn.model_selection import train_test_split\n",
    "\n",
    "num_samples = 1000\n",
    "batch_size = 64\n",
    "X1 = np.random.normal(size=(num_samples,2), scale=10,loc = (50, 5))\n",
    "X2 = np.random.normal(size=(num_samples,2), scale=10,loc = (-20, -30))\n",
    "X = np.concatenate([X1, X2])\n",
    "Y = np.ones(2*num_samples)\n",
    "Y[:num_samples] = 0\n",
    "Y[num_samples:] = 1\n",
    "indexes = np.arange(2*num_samples)\n",
    "np.random.shuffle(indexes)\n",
    "X, Y = X[indexes], Y[indexes]\n",
    "print(X.shape, Y.shape)\n",
    "\n",
    "a_pred = np.array([-5., 3]).reshape(2, 1)\n",
    "b_pred = np.array([-120.])\n",
    "#x,y = data_2dim(100)\n",
    "#x = (x - x.mean()) / x.std()\n",
    "X_train,X_test,Y_train,Y_test = train_test_split(X,Y,test_size = 0.3)\n",
    "#X_train,Y_train = x[:250],y[:250] ## Я знаю что так нельзя делать\n",
    "#X_test,Y_test = x[250:],y[250:]"
   ]
  },
  {
   "cell_type": "code",
   "execution_count": 32,
   "metadata": {
    "scrolled": true
   },
   "outputs": [
    {
     "data": {
      "text/plain": [
       "<matplotlib.collections.PathCollection at 0x1fe8c539388>"
      ]
     },
     "execution_count": 32,
     "metadata": {},
     "output_type": "execute_result"
    },
    {
     "data": {
      "image/png": "[encoded data removed]",
      "text/plain": [
       "<Figure size 432x288 with 1 Axes>"
      ]
     },
     "metadata": {
      "needs_background": "light"
     },
     "output_type": "display_data"
    }
   ],
   "source": [
    "plt.scatter(X_train[:,0],X_train[:,1])"
   ]
  },
  {
   "cell_type": "code",
   "execution_count": 33,
   "metadata": {},
   "outputs": [
    {
     "name": "stdout",
     "output_type": "stream",
     "text": [
      "Точность:100.0%\n"
     ]
    }
   ],
   "source": [
    "theta,cost = log_regression(X_train,Y_train,0.001,10000)\n",
    "accuracy = evaluate_model(X_test,Y_test,theta)\n",
    "print(\"Точность:{0}%\".format(accuracy))"
   ]
  },
  {
   "cell_type": "code",
   "execution_count": 35,
   "metadata": {},
   "outputs": [
    {
     "data": {
      "text/plain": [
       "array([ 0.0086696, -0.2622   , -0.2130486])"
      ]
     },
     "execution_count": 35,
     "metadata": {},
     "output_type": "execute_result"
    }
   ],
   "source": [
    "theta"
   ]
  },
  {
   "cell_type": "markdown",
   "metadata": {},
   "source": [
    "# Task 3:desision tree"
   ]
  },
  {
   "cell_type": "code",
   "execution_count": 1,
   "metadata": {},
   "outputs": [],
   "source": [
    "def check_purity(data):\n",
    "    \n",
    "    label_column = data[:,-1]\n",
    "    unique_classes = np.unique(label_column)\n",
    "\n",
    "    if len(unique_classes) == 1:\n",
    "        return True\n",
    "    else:\n",
    "        return False\n",
    "\n",
    "\n",
    "def classify_data(data):\n",
    "    \n",
    "    label_column = data[:,-1]\n",
    "    unique_classes, counts_unique_classes = np.unique(label_column, return_counts=True)\n",
    "    index = counts_unique_classes.argmax()\n",
    "    classification = unique_classes[index]\n",
    "    return classification\n",
    "\n",
    "\n",
    "def get_potential_splits(data):\n",
    "\n",
    "    potential_splits = dict()\n",
    "    _, n_columns = data.shape\n",
    "    for column_index in range(n_columns-1):\n",
    "        potential_splits[column_index] = list()\n",
    "        values = data[:, column_index]\n",
    "        unique_value = np.unique(values)\n",
    "        for index in range(len(unique_value)):\n",
    "            if index != 0:\n",
    "                current_value = unique_value[index]\n",
    "                previous_value = unique_value[index - 1]\n",
    "                potential_split = (current_value + previous_value)/2\n",
    "                potential_splits[column_index].append(potential_split)\n",
    "    return potential_splits\n",
    "\n",
    "\n",
    "def split_data(data, split_column, split_value):\n",
    "    split_column_values = data[:, split_column]\n",
    "    data_below = data[split_column_values <= split_value]\n",
    "    data_above = data[split_column_values > split_value]\n",
    "    return data_below,data_above\n",
    "\n",
    "\n",
    "def calculate_entropy(data):\n",
    "    \n",
    "    label_column = data[:,-1]\n",
    "    _, counts = np.unique(label_column, return_counts = True)\n",
    "    \n",
    "    probabilities = counts / counts.sum()\n",
    "    entropy = 1 - sum(probabilities**2)\n",
    "    \n",
    "    return entropy\n",
    "\n",
    "\n",
    "def calculate_overall_entropy(data_below, data_above):\n",
    "    \n",
    "    n_data_points = len(data_above) + len(data_below)\n",
    "    \n",
    "    p_data_below = len(data_below)/ n_data_points\n",
    "    p_data_above = len(data_above)/ n_data_points\n",
    "    \n",
    "    overall_entropy = (p_data_below*calculate_entropy(data_below) + p_data_above*calculate_entropy(data_above))\n",
    "    \n",
    "    return overall_entropy\n",
    "\n",
    "\n",
    "def determine_best_split(data, potential_splits):\n",
    "    overall_entropy = 999\n",
    "    for column_index in potential_splits:\n",
    "        for value in potential_splits[column_index]:\n",
    "            data_below, data_above = split_data(data, split_column = column_index, split_value = value)\n",
    "            current_overall_entropy = calculate_overall_entropy(data_below, data_above)\n",
    "            if current_overall_entropy < overall_entropy:\n",
    "                overall_entropy = current_overall_entropy\n",
    "                best_split_column = column_index\n",
    "                best_split_value = value\n",
    "            \n",
    "    return best_split_column, best_split_value\n",
    "\n",
    "\n",
    "\n",
    "def decision_tree_algorithm(data, counter=0, max_depth=2):\n",
    "    \n",
    "    if check_purity(data):\n",
    "        classification = classify_data(data)\n",
    "        return classification\n",
    "    \n",
    "    # recursive part\n",
    "    else:\n",
    "        counter += 1\n",
    "        \n",
    "        # helper function\n",
    "        potential_splits = get_potential_splits(data)\n",
    "        split_column, split_value = determine_best_split(data, potential_splits)\n",
    "        data_below, data_above = split_data(data, split_column, split_value)\n",
    "        # sub-tree\n",
    "        question = \"{} <= {}\".format(split_column, split_value)\n",
    "        sub_tree = {question: []}\n",
    "        \n",
    "        \n",
    "        # find answers (recursion)\n",
    "        if counter < max_depth:\n",
    "            yes_answer = decision_tree_algorithm(data_below, counter=counter)\n",
    "            no_answer = decision_tree_algorithm(data_above, counter=counter)\n",
    "        else:\n",
    "            yes_answer = classify_data(data_below)\n",
    "            no_answer = classify_data(data_above)\n",
    "        sub_tree[question].append(yes_answer)\n",
    "        sub_tree[question].append(no_answer)\n",
    "        \n",
    "        return sub_tree\n",
    "    \n",
    "    \n",
    "def predict_on_one_sample(x, tree):\n",
    "    new_tree = tree.copy()\n",
    "    while True:\n",
    "        for condition, v in new_tree.items():\n",
    "            split_column = int(condition[0])\n",
    "            split_value = float(condition[5:])\n",
    "            break\n",
    "        if x[split_column] <= split_value:\n",
    "            if isinstance(v[0], dict):\n",
    "                new_tree = v[0]\n",
    "            else:\n",
    "                return v[0]\n",
    "        else:\n",
    "            if isinstance(v[1], dict):\n",
    "                new_tree = v[1]\n",
    "            else:\n",
    "                return v[1]\n",
    "            \n",
    "\n",
    "def predict(X, tree):\n",
    "    assert len(X.shape) == 2\n",
    "    Y_prediction = np.empty((X.shape[0], 1))\n",
    "    for i in range(X.shape[0]):\n",
    "        Y_prediction[i] = predict_on_one_sample(X[i], tree)\n",
    "    return Y_prediction"
   ]
  },
  {
   "cell_type": "code",
   "execution_count": 5,
   "metadata": {},
   "outputs": [
    {
     "name": "stdout",
     "output_type": "stream",
     "text": [
      "(2000, 2) (2000,)\n"
     ]
    }
   ],
   "source": [
    "num_samples = 1000\n",
    "lr = 0.1\n",
    "X1 = np.random.normal(size=(num_samples,2), scale=10,loc = (10, 5))\n",
    "X2 = np.random.normal(size=(num_samples,2), scale=10,loc = (-20, -30))\n",
    "X = np.concatenate([X1, X2])\n",
    "Y = np.ones(2*num_samples)\n",
    "Y[:num_samples] = 0\n",
    "Y[num_samples:] = 1\n",
    "indexes = np.arange(2*num_samples)\n",
    "np.random.shuffle(indexes)\n",
    "X, Y = X[indexes], Y[indexes]\n",
    "print(X.shape, Y.shape)"
   ]
  },
  {
   "cell_type": "code",
   "execution_count": 6,
   "metadata": {},
   "outputs": [
    {
     "data": {
      "text/plain": [
       "<matplotlib.collections.PathCollection at 0x1fe809e0788>"
      ]
     },
     "execution_count": 6,
     "metadata": {},
     "output_type": "execute_result"
    },
    {
     "data": {
      "image/png": "[encoded data removed]",
      "text/plain": [
       "<Figure size 432x288 with 1 Axes>"
      ]
     },
     "metadata": {
      "needs_background": "light"
     },
     "output_type": "display_data"
    }
   ],
   "source": [
    "plt.scatter(X[:,0], X[:,1], c=Y)"
   ]
  },
  {
   "cell_type": "code",
   "execution_count": 7,
   "metadata": {},
   "outputs": [],
   "source": [
    "data = np.concatenate([X, Y.reshape(X.shape[0], 1)], axis=1)\n",
    "tree = decision_tree_algorithm(data)"
   ]
  },
  {
   "cell_type": "code",
   "execution_count": 80,
   "metadata": {},
   "outputs": [
    {
     "name": "stdout",
     "output_type": "stream",
     "text": [
      "Точность =  0.9905\n"
     ]
    }
   ],
   "source": [
    "Y_predicted = predict(X, tree)\n",
    "print(\"Точность = \", (Y_predicted[:, 0] == Y).mean())"
   ]
  },
  {
   "cell_type": "code",
   "execution_count": null,
   "metadata": {},
   "outputs": [],
   "source": []
  }
 ],
 "metadata": {
  "kernelspec": {
   "display_name": "Python 3",
   "language": "python",
   "name": "python3"
  },
  "language_info": {
   "codemirror_mode": {
    "name": "ipython",
    "version": 3
   },
   "file_extension": ".py",
   "mimetype": "text/x-python",
   "name": "python",
   "nbconvert_exporter": "python",
   "pygments_lexer": "ipython3",
   "version": "3.7.4"
  }
 },
 "nbformat": 4,
 "nbformat_minor": 2
}
