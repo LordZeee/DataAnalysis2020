{
 "cells": [
  {
   "cell_type": "code",
   "execution_count": 5,
   "metadata": {},
   "outputs": [],
   "source": [
    "import numpy as np\n",
    "import matplotlib.pyplot as plt\n",
    "import numpy as np "
   ]
  },
  {
   "cell_type": "markdown",
   "metadata": {},
   "source": [
    "# Task 1: gradient descent on linear regression"
   ]
  },
  {
   "cell_type": "code",
   "execution_count": 49,
   "metadata": {},
   "outputs": [],
   "source": [
    "def data_1dim(n_samples):\n",
    "    k = np.random.uniform(0,3)\n",
    "    b = np.random.uniform(0,3)\n",
    "    X = np.linspace(1,100,n_samples)\n",
    "    f_d1 = lambda x: k * x + b + (np.random.uniform(4,8) * np.log(x**2))\n",
    "    y = [f_d1(i) for i in X ]\n",
    "    \n",
    "    return k,b,X.reshape(-1,1),np.reshape(y,(-1,1))\n",
    "\n",
    "def hypothesis(theta,X,n):\n",
    "    h = np.ones((X.shape[0],1))\n",
    "    theta = theta.reshape(1,n + 1)\n",
    "    for i in range(0,X.shape[0]):\n",
    "        h[i] = float(np.matmul(theta,X[i]))\n",
    "    h = h.reshape(X.shape[0])\n",
    "    \n",
    "    return h\n",
    "\n",
    "def BGD(theta,alpha,num_iters,h,X,y,n):\n",
    "    cost = np.ones((num_iters,1))\n",
    "    for i in range(num_iters):\n",
    "        theta[0] = theta[0] - alpha/X.shape[0] * sum(h-y)\n",
    "        for j in range(1,n+1):\n",
    "            theta[j] = theta[j] - (alpha/X.shape[0]) *sum((h - y) * X.transpose()[j])\n",
    "            #print(theta[j])\n",
    "        h = hypothesis(theta,X,n)\n",
    "        cost[i] = 1/X.shape[0] * 0.5 *sum(np.square(h - y))\n",
    "        \n",
    "    return theta,cost\n",
    "\n",
    "def linear_regression(X,y,alpha,n_iters):\n",
    "    n = X.shape[1]\n",
    "    one_mat = np.ones((X.shape[0],1))\n",
    "    X = np.concatenate((one_mat,X),axis = 1)\n",
    "    theta = np.zeros(n+1)\n",
    "    h = hypothesis(theta,X,n)\n",
    "    theta_eval,cost = BGD(theta,alpha,n_iters,h,X,y,n)\n",
    "    \n",
    "    return theta_eval,cost"
   ]
  },
  {
   "cell_type": "code",
   "execution_count": 70,
   "metadata": {},
   "outputs": [
    {
     "name": "stdout",
     "output_type": "stream",
     "text": [
      "2.089407556793585 0.8584180048511384\n"
     ]
    }
   ],
   "source": [
    "from sklearn.model_selection import train_test_split\n",
    "k,b,x,y= data_1dim(300)\n",
    "x = (x - x.mean()) / x.std()\n",
    "#x = np.c_[np.ones(x.shape[0]), x] \n",
    "print(k,b)"
   ]
  },
  {
   "cell_type": "code",
   "execution_count": 73,
   "metadata": {},
   "outputs": [
    {
     "data": {
      "text/plain": [
       "<matplotlib.collections.PathCollection at 0x2c9170e4dc8>"
      ]
     },
     "execution_count": 73,
     "metadata": {},
     "output_type": "execute_result"
    },
    {
     "data": {
      "image/png": "[encoded data removed]",
      "text/plain": [
       "<Figure size 432x288 with 1 Axes>"
      ]
     },
     "metadata": {
      "needs_background": "light"
     },
     "output_type": "display_data"
    }
   ],
   "source": [
    "plt.scatter(x,y)"
   ]
  },
  {
   "cell_type": "code",
   "execution_count": 71,
   "metadata": {},
   "outputs": [],
   "source": [
    "theta,cost = linear_regression(x,y.reshape(300),0.0001,100)"
   ]
  },
  {
   "cell_type": "code",
   "execution_count": 74,
   "metadata": {},
   "outputs": [
    {
     "data": {
      "text/plain": [
       "(array([1.49289845, 0.69050872]), array([13441.93158057]))"
      ]
     },
     "execution_count": 74,
     "metadata": {},
     "output_type": "execute_result"
    }
   ],
   "source": [
    "theta,cost[-1]"
   ]
  },
  {
   "cell_type": "code",
   "execution_count": 67,
   "metadata": {},
   "outputs": [
    {
     "data": {
      "text/plain": [
       "array([11.13670333,  4.71829019])"
      ]
     },
     "execution_count": 67,
     "metadata": {},
     "output_type": "execute_result"
    }
   ],
   "source": [
    "theta"
   ]
  },
  {
   "cell_type": "markdown",
   "metadata": {},
   "source": [
    "# Task 2: logistic regression"
   ]
  },
  {
   "cell_type": "code",
   "execution_count": 31,
   "metadata": {},
   "outputs": [],
   "source": [
    "def data_2dim(n_samples):\n",
    "    X0 = np.linspace(50,150,n_samples)\n",
    "    X1 = np.linspace(5,35,n_samples)\n",
    "    y = np.random.randint(0,2,300)\n",
    "    return np.concatenate([X0.reshape(-1,1),X1.reshape(-1,1)],axis = 1),np.reshape(y,(n_samples))\n",
    "\n",
    "def sigmoid(X, weight):\n",
    "    #%debug\n",
    "    z = np.dot(X, weight[0])\n",
    "    return 1 / (1 + np.exp(-z))\n",
    "\n",
    "def BGD(theta,alpha,num_iters,h,X,y,n):\n",
    "    cost = np.ones((num_iters,1))\n",
    "    for i in range(num_iters):\n",
    "        theta[0] = theta[0] - alpha/X.shape[0] * sum(h-y)\n",
    "        for j in range(1,n+1):\n",
    "            theta[j] = theta[j] - (alpha/X.shape[0]) *sum((h - y) * X.transpose()[j])\n",
    "            #print(theta[j])\n",
    "        h = hypothesis_(theta,X,n)\n",
    "        cost[i] = 1/X.shape[0] * 0.5 *sum(np.square(h - y))\n",
    "        \n",
    "    return theta,cost\n",
    "\n",
    "def hypothesis_(theta,X,n):\n",
    "    h = np.ones((X.shape[0],1))\n",
    "    theta = theta.reshape(1,n + 1)\n",
    "    for i in range(0,X.shape[0]):\n",
    "        h[i] = sigmoid(X[i],theta)\n",
    "    h = h.reshape(X.shape[0])\n",
    "    \n",
    "    return h \n",
    "\n",
    "def log_regression(X,y,alpha,n_iters):\n",
    "    n = X.shape[1]\n",
    "    one_mat = np.ones((X.shape[0],1))\n",
    "    X = np.concatenate((one_mat,X),axis = 1)\n",
    "    theta = np.zeros(n+1)\n",
    "    \n",
    "    h = hypothesis_(theta,X,n)\n",
    "    theta_eval,cost = BGD(theta,alpha,n_iters,h,X,y,n)\n",
    "    \n",
    "    return theta,cost\n",
    "\n",
    "def evaluate_model(x_test,y_test,theta):\n",
    "    one_mat = np.ones((x_test.shape[0],1))\n",
    "    x_test = np.concatenate((one_mat,x_test),axis = 1)\n",
    "    y_predicted = np.zeros(x_test.shape[0])\n",
    "    for i in range(x_test.shape[0]):\n",
    "        y_predicted[i] = np.dot(x_test[i],theta)\n",
    "    f_ = lambda x :0 if x < 0.5 else 1\n",
    "    y_predicted = [f_(x) for x in y_predicted]\n",
    "    count = 0\n",
    "    for s in range(x_test.shape[0]):\n",
    "        if y_predicted[s] == y_test[s]:\n",
    "            count += 1\n",
    "            \n",
    "    return count/x_test.shape[0] * 100"
   ]
  },
  {
   "cell_type": "code",
   "execution_count": 32,
   "metadata": {},
   "outputs": [
    {
     "name": "stdout",
     "output_type": "stream",
     "text": [
      "Точность:66.0%\n"
     ]
    }
   ],
   "source": [
    "x,y = data_2dim(300)\n",
    "x = (x - x.mean()) / x.std()\n",
    "X_train,Y_train = x[:250],y[:250] ## Я знаю что так нельзя делать\n",
    "X_test,Y_test = x[250:],y[250:]\n",
    "theta,cost = log_regression(X_train,Y_train,0.0001,1000)\n",
    "accuracy = evaluate_model(X_test,Y_test,theta)\n",
    "print(\"Точность:{0}%\".format(accuracy))"
   ]
  },
  {
   "cell_type": "markdown",
   "metadata": {},
   "source": [
    "# Task 3:desision tree"
   ]
  },
  {
   "cell_type": "markdown",
   "metadata": {},
   "source": [
    "\n",
    "## To be continued...."
   ]
  },
  {
   "cell_type": "code",
   "execution_count": null,
   "metadata": {},
   "outputs": [],
   "source": []
  }
 ],
 "metadata": {
  "kernelspec": {
   "display_name": "Python 3",
   "language": "python",
   "name": "python3"
  },
  "language_info": {
   "codemirror_mode": {
    "name": "ipython",
    "version": 3
   },
   "file_extension": ".py",
   "mimetype": "text/x-python",
   "name": "python",
   "nbconvert_exporter": "python",
   "pygments_lexer": "ipython3",
   "version": "3.7.4"
  }
 },
 "nbformat": 4,
 "nbformat_minor": 2
}
